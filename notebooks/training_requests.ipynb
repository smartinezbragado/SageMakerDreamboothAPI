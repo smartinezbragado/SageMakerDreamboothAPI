{
 "cells": [
  {
   "attachments": {},
   "cell_type": "markdown",
   "metadata": {},
   "source": [
    "### **Dreambooth API examples**"
   ]
  },
  {
   "cell_type": "code",
   "execution_count": 1,
   "metadata": {},
   "outputs": [
    {
     "data": {
      "text/plain": [
       "True"
      ]
     },
     "execution_count": 1,
     "metadata": {},
     "output_type": "execute_result"
    }
   ],
   "source": [
    "import requests\n",
    "import os\n",
    "import json\n",
    "\n",
    "from dotenv import load_dotenv\n",
    "\n",
    "load_dotenv()"
   ]
  },
  {
   "cell_type": "code",
   "execution_count": 4,
   "metadata": {},
   "outputs": [],
   "source": [
    "URL = 'https://3f041ecl7b.execute-api.us-east-1.amazonaws.com/dev'\n",
    "URL = 'http://0.0.0.0:8000'"
   ]
  },
  {
   "attachments": {},
   "cell_type": "markdown",
   "metadata": {},
   "source": [
    "**Training**"
   ]
  },
  {
   "cell_type": "code",
   "execution_count": 12,
   "metadata": {},
   "outputs": [
    {
     "data": {
      "text/plain": [
       "{'job_name': '75983d44b11446f19e24c31c305e9da8-sks-dogc',\n",
       " 'status': 'successful'}"
      ]
     },
     "execution_count": 12,
     "metadata": {},
     "output_type": "execute_result"
    }
   ],
   "source": [
    "endpoint = os.path.join('models', 'training')\n",
    "\n",
    "body_request = {\n",
    "    \"user_id\":'75983d44b11446f19e24c31c305e9da8', \n",
    "    \"model_id\": \"sks-dogc\",\n",
    "    \"instance_type\": \"ml.g5.xlarge\",\n",
    "    \"hyperparameters\": {\n",
    "        \"resolution\": 768,\n",
    "        \"instance_prompt\": \"a photo of sks dog\",\n",
    "        \"max_train_steps\": 100,\n",
    "        \"with_prior_preservation\": False,\n",
    "        \"prior_loss_weight\": 1,\n",
    "        \"class_prompt\": \"a photo of a dog\",\n",
    "        \"num_class_images\": 100,\n",
    "        \"ckpt\": False,\n",
    "        \"train_text_encoder\": False\n",
    "    }\n",
    "}\n",
    "\n",
    "payload = json.dumps(body_request)\n",
    "\n",
    "response = requests.post(\n",
    "    url=os.path.join(URL, endpoint), \n",
    "    data=payload\n",
    ")\n",
    "\n",
    "response.json()"
   ]
  },
  {
   "attachments": {},
   "cell_type": "markdown",
   "metadata": {},
   "source": [
    "**Check training status**"
   ]
  },
  {
   "cell_type": "code",
   "execution_count": 7,
   "metadata": {},
   "outputs": [
    {
     "name": "stdout",
     "output_type": "stream",
     "text": [
      "{'job_name': '07a4ef2cd994440f8f478d14c9329acc-sks-dog-pro', 'status': 'Starting'}\n"
     ]
    }
   ],
   "source": [
    "user_id =  '07a4ef2cd994440f8f478d14c9329acc',\n",
    "model_id = 'sks-dog-pro'\n",
    "endpoint = os.path.join('models', 'status')\n",
    "params = {\n",
    "    'user_id': user_id,\n",
    "    'model_id': model_id\n",
    "}\n",
    "\n",
    "response = requests.get(\n",
    "        url=os.path.join(URL, endpoint), \n",
    "        params=params\n",
    "    )\n",
    "\n",
    "print(response.json())"
   ]
  },
  {
   "attachments": {},
   "cell_type": "markdown",
   "metadata": {},
   "source": [
    "**List user models**"
   ]
  },
  {
   "cell_type": "code",
   "execution_count": 9,
   "metadata": {},
   "outputs": [
    {
     "data": {
      "text/plain": [
       "{'75983d44b11446f19e24c31c305e9da8': {'models': ['75983d44b11446f19e24c31c305e9da8-dec6c321eaae4c0aa222']}}"
      ]
     },
     "execution_count": 9,
     "metadata": {},
     "output_type": "execute_result"
    }
   ],
   "source": [
    "user_id = '75983d44b11446f19e24c31c305e9da8'\n",
    "endpoint = os.path.join('models', 'list')\n",
    "params = {'user_id': user_id}\n",
    "\n",
    "response = requests.get(\n",
    "    url=os.path.join(URL, endpoint), params=params\n",
    ")\n",
    "response.json()"
   ]
  },
  {
   "attachments": {},
   "cell_type": "markdown",
   "metadata": {},
   "source": [
    "**Delete user model**"
   ]
  },
  {
   "cell_type": "code",
   "execution_count": 13,
   "metadata": {},
   "outputs": [
    {
     "data": {
      "text/plain": [
       "{'model_name': '75983d44b11446f19e24c31c305e9da8-dec6c321eaae4c0aa222',\n",
       " 'status': 'successful'}"
      ]
     },
     "execution_count": 13,
     "metadata": {},
     "output_type": "execute_result"
    }
   ],
   "source": [
    "user_id = '75983d44b11446f19e24c31c305e9da8'\n",
    "model_id = 'dec6c321eaae4c0aa222'\n",
    "\n",
    "endpoint = os.path.join('models', 'delete')\n",
    "\n",
    "body_request = {\n",
    "    'user_id': user_id,\n",
    "    'model_id': model_id\n",
    "}\n",
    "\n",
    "payload = json.dumps(body_request)\n",
    "\n",
    "response = requests.post(\n",
    "    url=os.path.join(URL, endpoint), data=payload\n",
    ")\n",
    "response.json()"
   ]
  },
  {
   "cell_type": "code",
   "execution_count": null,
   "metadata": {},
   "outputs": [],
   "source": []
  }
 ],
 "metadata": {
  "kernelspec": {
   "display_name": "Python 3.11.1 64-bit",
   "language": "python",
   "name": "python3"
  },
  "language_info": {
   "codemirror_mode": {
    "name": "ipython",
    "version": 3
   },
   "file_extension": ".py",
   "mimetype": "text/x-python",
   "name": "python",
   "nbconvert_exporter": "python",
   "pygments_lexer": "ipython3",
   "version": "3.11.1"
  },
  "orig_nbformat": 4,
  "vscode": {
   "interpreter": {
    "hash": "aee8b7b246df8f9039afb4144a1f6fd8d2ca17a180786b69acc140d282b71a49"
   }
  }
 },
 "nbformat": 4,
 "nbformat_minor": 2
}
