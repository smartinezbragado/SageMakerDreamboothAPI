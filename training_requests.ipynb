{
 "cells": [
  {
   "attachments": {},
   "cell_type": "markdown",
   "metadata": {},
   "source": [
    "### **Dreambooth API examples**"
   ]
  },
  {
   "cell_type": "code",
   "execution_count": 62,
   "metadata": {},
   "outputs": [
    {
     "data": {
      "text/plain": [
       "True"
      ]
     },
     "execution_count": 62,
     "metadata": {},
     "output_type": "execute_result"
    }
   ],
   "source": [
    "import requests\n",
    "import os\n",
    "import json\n",
    "\n",
    "from dotenv import load_dotenv\n",
    "\n",
    "load_dotenv()"
   ]
  },
  {
   "cell_type": "code",
   "execution_count": 3,
   "metadata": {},
   "outputs": [],
   "source": [
    "# from app.main import app\n",
    "\n",
    "# with open('dreambooth_api_docs.json', 'w') as fp:\n",
    "#     json.dump(app.openapi(), fp=fp)"
   ]
  },
  {
   "cell_type": "code",
   "execution_count": 70,
   "metadata": {},
   "outputs": [],
   "source": [
    "URL = 'https://3f041ecl7b.execute-api.us-east-1.amazonaws.com/dev'\n",
    "URL = 'http://0.0.0.0:8000'"
   ]
  },
  {
   "attachments": {},
   "cell_type": "markdown",
   "metadata": {},
   "source": [
    "**Training**"
   ]
  },
  {
   "cell_type": "code",
   "execution_count": 12,
   "metadata": {},
   "outputs": [
    {
     "data": {
      "text/plain": [
       "{'job_name': 'dreambooth-dev-dreambooth', 'status': 'successful'}"
      ]
     },
     "execution_count": 12,
     "metadata": {},
     "output_type": "execute_result"
    }
   ],
   "source": [
    "endpoint = os.path.join('models', 'training')\n",
    "\n",
    "body_request = {\n",
    "    \"user_id\":'dreambooth', \n",
    "    \"model_id\": \"dev-dreambooth\",\n",
    "    \"instance_type\": \"ml.g5.xlarge\",\n",
    "    \"hyperparameters\": {\n",
    "        \"pretrained_model_name_or_path\": \"stabilityai/stable-diffusion-2\",\n",
    "        \"resolution\": 768,\n",
    "        \"instance_prompt\": \"a sks dog\",\n",
    "        \"max_train_steps\": 300,\n",
    "        \"lr_warmup_steps\": 0,\n",
    "        \"gradient_accumulation_steps\": 1,\n",
    "        \"center_crop\": True,\n",
    "        \"with_prior_preservation\": False,\n",
    "        \"prior_loss_weight\": 1,\n",
    "        \"class_prompt\": \"a photo of a toy rinding a horse on mars\",\n",
    "        \"num_class_images\": 200,\n",
    "        \"learning_rate\": 2e-6,\n",
    "        \"ckpt\": False,\n",
    "        \"train_text_encoder\": False,\n",
    "        \"prompt\": \"a sks dog running on the beach\",\n",
    "        \"number\": 5,\n",
    "        \"width\": 768,\n",
    "        \"height\": 768,\n",
    "        \"num_inference_steps\": 50,\n",
    "        \"guidance_scale\": 9\n",
    "    }\n",
    "}\n",
    "\n",
    "payload = json.dumps(body_request)\n",
    "\n",
    "response = requests.post(\n",
    "    url=os.path.join(URL, endpoint), \n",
    "    data=payload\n",
    ")\n",
    "\n",
    "response.json()"
   ]
  },
  {
   "attachments": {},
   "cell_type": "markdown",
   "metadata": {},
   "source": [
    "**Check training status**"
   ]
  },
  {
   "cell_type": "code",
   "execution_count": 69,
   "metadata": {},
   "outputs": [
    {
     "name": "stdout",
     "output_type": "stream",
     "text": [
      "{'job_name': 'dreambooth-dev-dreambooth', 'status': 'Completed', 'images': ['https://sagemaker-us-east-1-128213161512.s3.amazonaws.com/dreambooth-dev-dreambooth/output/images/0.jpeg', 'https://sagemaker-us-east-1-128213161512.s3.amazonaws.com/dreambooth-dev-dreambooth/output/images/1.jpeg', 'https://sagemaker-us-east-1-128213161512.s3.amazonaws.com/dreambooth-dev-dreambooth/output/images/2.jpeg', 'https://sagemaker-us-east-1-128213161512.s3.amazonaws.com/dreambooth-dev-dreambooth/output/images/3.jpeg', 'https://sagemaker-us-east-1-128213161512.s3.amazonaws.com/dreambooth-dev-dreambooth/output/images/4.jpeg']}\n"
     ]
    }
   ],
   "source": [
    "user_id =  'dreambooth',\n",
    "model_id = 'dev-dreambooth'\n",
    "endpoint = os.path.join('models', 'status')\n",
    "params = {\n",
    "    'user_id': user_id,\n",
    "    'model_id': model_id\n",
    "}\n",
    "\n",
    "response = requests.get(\n",
    "        url=os.path.join(URL, endpoint), \n",
    "        params=params\n",
    "    )\n",
    "\n",
    "print(response.json())"
   ]
  },
  {
   "attachments": {},
   "cell_type": "markdown",
   "metadata": {},
   "source": [
    "**List user models**"
   ]
  },
  {
   "cell_type": "code",
   "execution_count": 8,
   "metadata": {},
   "outputs": [
    {
     "data": {
      "text/plain": [
       "{'75983d44b11446f19e24c31c305e9da8': {'models': ['75983d44b11446f19e24c31c305e9da8-sks-dog-',\n",
       "   '75983d44b11446f19e24c31c305e9da8-sks-dog-pro',\n",
       "   '75983d44b11446f19e24c31c305e9da8-sks-dog',\n",
       "   '75983d44b11446f19e24c31c305e9da8-sks-dogc']}}"
      ]
     },
     "execution_count": 8,
     "metadata": {},
     "output_type": "execute_result"
    }
   ],
   "source": [
    "user_id = '75983d44b11446f19e24c31c305e9da8'\n",
    "endpoint = os.path.join('models', 'list')\n",
    "params = {'user_id': user_id}\n",
    "\n",
    "response = requests.get(\n",
    "    url=os.path.join(URL, endpoint), params=params\n",
    ")\n",
    "response.json()"
   ]
  },
  {
   "attachments": {},
   "cell_type": "markdown",
   "metadata": {},
   "source": [
    "**Delete user model**"
   ]
  },
  {
   "cell_type": "code",
   "execution_count": 13,
   "metadata": {},
   "outputs": [
    {
     "data": {
      "text/plain": [
       "{'model_name': '75983d44b11446f19e24c31c305e9da8-dec6c321eaae4c0aa222',\n",
       " 'status': 'successful'}"
      ]
     },
     "execution_count": 13,
     "metadata": {},
     "output_type": "execute_result"
    }
   ],
   "source": [
    "user_id = '75983d44b11446f19e24c31c305e9da8'\n",
    "model_id = 'dec6c321eaae4c0aa222'\n",
    "\n",
    "endpoint = os.path.join('models', 'delete')\n",
    "\n",
    "body_request = {\n",
    "    'user_id': user_id,\n",
    "    'model_id': model_id\n",
    "}\n",
    "\n",
    "payload = json.dumps(body_request)\n",
    "\n",
    "response = requests.post(\n",
    "    url=os.path.join(URL, endpoint), data=payload\n",
    ")\n",
    "response.json()"
   ]
  },
  {
   "cell_type": "code",
   "execution_count": 7,
   "metadata": {},
   "outputs": [
    {
     "data": {
      "text/plain": [
       "{'images': ['s3://dreambooth-testing03621-dev/07a4ef2cd994440f8f478d14c9329acc/image_cropper_0A903414-DAFC-42AC-8703-B9FCF297BF04-12140-000007BDFF7C0090.jpg',\n",
       "  's3://dreambooth-testing03621-dev/07a4ef2cd994440f8f478d14c9329acc/image_cropper_10E455CC-3023-48D6-B94A-F0109F130DAE-12140-000007A8D1168AA1.jpg']}"
      ]
     },
     "execution_count": 7,
     "metadata": {},
     "output_type": "execute_result"
    }
   ],
   "source": [
    "user_id = '75983d44b11446f19e24c31c305e9da8'\n",
    "model_id = 'dec6c321eaae4c0aa222'\n",
    "\n",
    "endpoint = os.path.join('models', 'inference')\n",
    "\n",
    "body_request = {\n",
    "    'user_id': user_id,\n",
    "    'model_id': model_id,\n",
    "    'prompt': \"str\"\n",
    "}\n",
    "\n",
    "payload = json.dumps(body_request)\n",
    "\n",
    "response = requests.post(\n",
    "    url=os.path.join(URL, endpoint), data=payload\n",
    ")\n",
    "response.json()"
   ]
  },
  {
   "cell_type": "code",
   "execution_count": null,
   "metadata": {},
   "outputs": [],
   "source": []
  }
 ],
 "metadata": {
  "kernelspec": {
   "display_name": "Python 3.11.1 64-bit",
   "language": "python",
   "name": "python3"
  },
  "language_info": {
   "codemirror_mode": {
    "name": "ipython",
    "version": 3
   },
   "file_extension": ".py",
   "mimetype": "text/x-python",
   "name": "python",
   "nbconvert_exporter": "python",
   "pygments_lexer": "ipython3",
   "version": "3.11.1"
  },
  "orig_nbformat": 4,
  "vscode": {
   "interpreter": {
    "hash": "aee8b7b246df8f9039afb4144a1f6fd8d2ca17a180786b69acc140d282b71a49"
   }
  }
 },
 "nbformat": 4,
 "nbformat_minor": 2
}
